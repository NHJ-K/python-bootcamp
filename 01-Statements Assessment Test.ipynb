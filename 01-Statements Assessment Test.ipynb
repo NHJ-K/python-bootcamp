{
 "cells": [
  {
   "cell_type": "markdown",
   "metadata": {
    "collapsed": true,
    "id": "vEXWBs8u_aYK"
   },
   "source": [
    "# Statements Assessment Test\n",
    "Let's test your knowledge!"
   ]
  },
  {
   "cell_type": "markdown",
   "metadata": {
    "id": "1xE38GCd_aYK"
   },
   "source": [
    "_____\n",
    "**Use <code>for</code>, .split(), and <code>if</code> to create a Statement that will print out words that start with 's':**"
   ]
  },
  {
   "cell_type": "code",
   "execution_count": null,
   "metadata": {
    "id": "uoiN7pyo_aYL"
   },
   "outputs": [],
   "source": [
    "st = 'Print only the words that start with s in this sentence'"
   ]
  },
  {
   "cell_type": "code",
   "execution_count": null,
   "metadata": {
    "id": "dhjd9i24_aYM",
    "scrolled": true
   },
   "outputs": [],
   "source": [
    "#Code here\n",
    "li = st.split(' ')\n",
    "for stri in li:\n",
    "    if 's' in stri[0]:\n",
    "        print(stri)\n",
    "        \n",
    "#res = [idx for idx in li if idx.startswith('s')]\n",
    "#print(res)\n"
   ]
  },
  {
   "cell_type": "markdown",
   "metadata": {
    "id": "ZVczdr6f_aYM"
   },
   "source": [
    "______\n",
    "**Use range() to print all the even numbers from 0 to 10.**"
   ]
  },
  {
   "cell_type": "code",
   "execution_count": null,
   "metadata": {
    "id": "QpLdj6hE_aYN"
   },
   "outputs": [],
   "source": [
    "#Code Here\n",
    "for i in range(0,11,2):\n",
    "    print(i)"
   ]
  },
  {
   "cell_type": "markdown",
   "metadata": {
    "id": "EEwmZGGY_aYO"
   },
   "source": [
    "___\n",
    "**Use a List Comprehension to create a list of all numbers between 1 and 50 that are divisible by 3.**"
   ]
  },
  {
   "cell_type": "code",
   "execution_count": null,
   "metadata": {
    "id": "b3J8VXS2_aYO"
   },
   "outputs": [],
   "source": [
    "#Code in this cell\n",
    "print([x for x in range(51) if x%3 == 0])"
   ]
  },
  {
   "cell_type": "markdown",
   "metadata": {
    "id": "q02jerwy_aYP"
   },
   "source": [
    "_____\n",
    "**Go through the string below and if the length of a word is even print \"even!\"**"
   ]
  },
  {
   "cell_type": "code",
   "execution_count": null,
   "metadata": {
    "id": "vclEirI1_aYQ"
   },
   "outputs": [],
   "source": [
    "st = 'Print every word in this sentence that has an even number of letters'"
   ]
  },
  {
   "cell_type": "code",
   "execution_count": null,
   "metadata": {
    "id": "0zasL784_aYQ"
   },
   "outputs": [],
   "source": [
    "#Code in this cell\n",
    "li = st.split(' ')\n",
    "print([x for x in li if len(x)%2==0])"
   ]
  },
  {
   "cell_type": "markdown",
   "metadata": {
    "id": "sKx7mm44_aYQ"
   },
   "source": [
    "____\n",
    "**Write a program that prints the integers from 1 to 100. But for multiples of three print \"Fizz\" instead of the number, and for the multiples of five print \"Buzz\". For numbers which are multiples of both three and five print \"FizzBuzz\".**"
   ]
  },
  {
   "cell_type": "code",
   "execution_count": null,
   "metadata": {
    "id": "clBsaGR0_aYR"
   },
   "outputs": [],
   "source": [
    "#Code in this cell\n",
    "for i in range(101):\n",
    "    if i%3 == 0:\n",
    "        if i%5 == 0:\n",
    "            print(\"FizzBuzz\")\n",
    "        else:\n",
    "            print(\"Fizz\")\n",
    "    elif i%5 == 0:\n",
    "        print(\"Buzz\")\n",
    "    else:\n",
    "        print(i)"
   ]
  },
  {
   "cell_type": "markdown",
   "metadata": {
    "id": "TSuKZ_-Q_aYR"
   },
   "source": [
    "____\n",
    "**Use List Comprehension to create a list of the first letters of every word in the string below:**"
   ]
  },
  {
   "cell_type": "code",
   "execution_count": null,
   "metadata": {
    "id": "VPHDX_fz_aYR"
   },
   "outputs": [],
   "source": [
    "st = 'Create a list of the first letters of every word in this string'"
   ]
  },
  {
   "cell_type": "code",
   "execution_count": null,
   "metadata": {
    "id": "D8Zqpv7G_aYS"
   },
   "outputs": [],
   "source": [
    "#Code in this cell\n",
    "print([x[0] for x in st.split(' ')]) "
   ]
  },
  {
   "cell_type": "markdown",
   "metadata": {
    "id": "5mkVIgDu_aYS"
   },
   "source": [
    "### Great Job!"
   ]
  }
 ],
 "metadata": {
  "colab": {
   "name": "01-Statements Assessment Test.ipynb",
   "provenance": []
  },
  "kernelspec": {
   "display_name": "Python 3 (ipykernel)",
   "language": "python",
   "name": "python3"
  },
  "language_info": {
   "codemirror_mode": {
    "name": "ipython",
    "version": 3
   },
   "file_extension": ".py",
   "mimetype": "text/x-python",
   "name": "python",
   "nbconvert_exporter": "python",
   "pygments_lexer": "ipython3",
   "version": "3.8.10"
  }
 },
 "nbformat": 4,
 "nbformat_minor": 1
}

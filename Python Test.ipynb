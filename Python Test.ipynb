{
 "cells": [
  {
   "cell_type": "markdown",
   "metadata": {
    "id": "zzkitRlnVob1"
   },
   "source": [
    "# Python Test\n"
   ]
  },
  {
   "cell_type": "markdown",
   "metadata": {
    "id": "uXHWF4uEVob6"
   },
   "source": [
    "\n",
    "**Problem 1: Convert 1024 to binary and hexadecimal representation (2)**"
   ]
  },
  {
   "cell_type": "code",
   "execution_count": null,
   "metadata": {
    "id": "2XHMFKxHVob7"
   },
   "outputs": [],
   "source": [
    "num = 1024\n",
    "print(\"Binary:\",bin(num))\n",
    "print(\"Hex:\",hex(num))"
   ]
  },
  {
   "cell_type": "markdown",
   "metadata": {
    "id": "WdogAY7TVob8"
   },
   "source": [
    "**Problem 2: Round 5.23222 to two decimal places (1)**"
   ]
  },
  {
   "cell_type": "code",
   "execution_count": null,
   "metadata": {
    "id": "I48g3uZaVob8"
   },
   "outputs": [],
   "source": [
    "round(5.23222,2)"
   ]
  },
  {
   "cell_type": "markdown",
   "metadata": {
    "id": "3U8BuPF-Vob9"
   },
   "source": [
    "\n",
    "**Problem 3: Check if every letter in the string s is lower case (3)**"
   ]
  },
  {
   "cell_type": "code",
   "execution_count": null,
   "metadata": {
    "id": "mDPBPksTVob9"
   },
   "outputs": [],
   "source": [
    "s = 'hello how are you Mary, are you feeling okay?'\n",
    "co = 0\n",
    "for i in s:\n",
    "    if i.isupper():\n",
    "        print(\"Every letter in the string is not lower case...\")\n",
    "        co=1\n",
    "        break\n",
    "if co == 0:\n",
    "    print(\"Every letter in the string is lower case...\")"
   ]
  },
  {
   "cell_type": "markdown",
   "metadata": {
    "id": "hNXZrbCnVob_"
   },
   "source": [
    "**Problem 4: How many times does the letter 'w' show up in the string below? (2)**"
   ]
  },
  {
   "cell_type": "code",
   "execution_count": null,
   "metadata": {
    "id": "CezBuhCzVocA"
   },
   "outputs": [],
   "source": [
    "s = 'twywywtwywbwhsjhwuwshshwuwwwjdjdid'\n",
    "\n",
    "co = 0\n",
    "for i in s:\n",
    "    if i == 'w':\n",
    "        co+=1\n",
    "print(\"'w' is repeated\",co,\"times\")"
   ]
  },
  {
   "cell_type": "markdown",
   "metadata": {
    "id": "dGj9xxOeVocB"
   },
   "source": [
    "\n",
    "**Problem 5: Find the elements in set1 that are not in set2: (3)**"
   ]
  },
  {
   "cell_type": "code",
   "execution_count": null,
   "metadata": {
    "id": "RTIKeUCeVocB"
   },
   "outputs": [],
   "source": [
    "set1 = {2,3,1,5,6,8}\n",
    "set2 = {3,1,7,5,6,8}\n",
    "\n",
    "print(set1.difference(set2))"
   ]
  },
  {
   "cell_type": "markdown",
   "metadata": {
    "id": "wMaPhsSeVocC"
   },
   "source": [
    "**Problem 6: Find all elements that are in either set: (3)**"
   ]
  },
  {
   "cell_type": "code",
   "execution_count": null,
   "metadata": {
    "id": "eQDAa3cyVocD"
   },
   "outputs": [],
   "source": [
    "print(set1 & set2)"
   ]
  },
  {
   "cell_type": "markdown",
   "metadata": {
    "id": "gDGR5tDMVocD"
   },
   "source": [
    "\n",
    "**Problem 7: Create this dictionary:\n",
    "{0: 0, 1: 1, 2: 8, 3: 27, 4: 64}\n",
    " using a dictionary comprehension. (4)**"
   ]
  },
  {
   "cell_type": "code",
   "execution_count": null,
   "metadata": {
    "id": "eMqGgQkSVocD"
   },
   "outputs": [],
   "source": [
    "print({x: x**3 for x in range(5)})"
   ]
  },
  {
   "cell_type": "markdown",
   "metadata": {
    "id": "aKYnWXrUVocD"
   },
   "source": [
    "\n",
    "**Problem 8: Reverse the list below: (2)**"
   ]
  },
  {
   "cell_type": "code",
   "execution_count": null,
   "metadata": {
    "id": "6OfjWVAoVocE"
   },
   "outputs": [],
   "source": [
    "list1 = [1,2,3,4]\n",
    "\n",
    "print(list1[::-1])"
   ]
  },
  {
   "cell_type": "markdown",
   "metadata": {
    "id": "Ou3caniJVocE"
   },
   "source": [
    "**Problem 9: Sort the list below: (2)**"
   ]
  },
  {
   "cell_type": "code",
   "execution_count": null,
   "metadata": {
    "id": "HAMXE3evVocE"
   },
   "outputs": [],
   "source": [
    "list2 = [3,4,2,5,1]\n",
    "\n",
    "for i in range (len(list2)):\n",
    "    for j in range(i + 1, len(list2)):\n",
    "        if(list2[i] > list2[j]):\n",
    "            temp = list2[i]\n",
    "            list2[i] = list2[j]\n",
    "            list2[j] = temp\n",
    "print(list2)\n",
    "\n",
    "\n",
    "#print(sorted(list2))"
   ]
  },
  {
   "cell_type": "markdown",
   "metadata": {
    "id": "yEByKBZGVocE"
   },
   "source": [
    "**Problem 10:**\n",
    "#### LESSER OF TWO EVENS: Write a function that returns the lesser of two given numbers *if* both numbers are even, but returns the greater if one or both numbers are odd (6)\n",
    "    lesser_of_two_evens(2,4) --> 2\n",
    "    lesser_of_two_evens(2,5) --> 5"
   ]
  },
  {
   "cell_type": "code",
   "execution_count": null,
   "metadata": {
    "id": "SFyw2Ovjb0p5"
   },
   "outputs": [],
   "source": [
    "def lesser_of_two_evens(a,b):\n",
    "    if a%2 == 0 and b%2 == 0:\n",
    "        if a<b:\n",
    "            print(a)\n",
    "        else:\n",
    "            print(b)\n",
    "    else:\n",
    "        if a>b:\n",
    "            print(a)\n",
    "        else:\n",
    "            print(b)"
   ]
  },
  {
   "cell_type": "code",
   "execution_count": null,
   "metadata": {
    "id": "x7jHQWY8cxxF"
   },
   "outputs": [],
   "source": [
    "# Check\n",
    "lesser_of_two_evens(2,4)"
   ]
  },
  {
   "cell_type": "code",
   "execution_count": null,
   "metadata": {
    "id": "c6eZ5MgkczOh"
   },
   "outputs": [],
   "source": [
    "# Check\n",
    "lesser_of_two_evens(2,5)"
   ]
  },
  {
   "cell_type": "markdown",
   "metadata": {
    "id": "NllGvRUOcond"
   },
   "source": [
    "**Problem 11**\n",
    "#### ANIMAL CRACKERS: Write a function takes a two-word string and returns True if both words begin with same letter (5)\n",
    "    animal_crackers('Levelheaded Llama') --> True\n",
    "    animal_crackers('Crazy Kangaroo') --> False"
   ]
  },
  {
   "cell_type": "code",
   "execution_count": null,
   "metadata": {
    "id": "Pwj5LWjrc6cE"
   },
   "outputs": [],
   "source": [
    "def animal_crackers(text):\n",
    "    txt = text.split(' ')\n",
    "    return(txt[0].startswith(txt[1][0]))\n",
    "    "
   ]
  },
  {
   "cell_type": "code",
   "execution_count": null,
   "metadata": {
    "id": "f0alsjgtc9Z9"
   },
   "outputs": [],
   "source": [
    "# Check\n",
    "animal_crackers('Levelheaded Llama')"
   ]
  },
  {
   "cell_type": "code",
   "execution_count": null,
   "metadata": {
    "id": "SfejDeYIc--A"
   },
   "outputs": [],
   "source": [
    "# Check\n",
    "animal_crackers('Crazy Kangaroo')"
   ]
  },
  {
   "cell_type": "markdown",
   "metadata": {
    "id": "qRqI62mMdDnc"
   },
   "source": [
    "**Problem 12**\n",
    "#### OLD MACDONALD: Write a function that capitalizes the first and fourth letters of a name (6)\n",
    "     \n",
    "    old_macdonald('macdonald') --> MacDonald\n",
    "    \n",
    "Note: `'macdonald'.capitalize()` returns `'Macdonald'`"
   ]
  },
  {
   "cell_type": "code",
   "execution_count": null,
   "metadata": {
    "id": "Y2StI51kdLaL"
   },
   "outputs": [],
   "source": [
    "def old_macdonald(name):\n",
    "    mylist = list(name)\n",
    "    mylist[0] = mylist[0].upper()\n",
    "    mylist[3] = mylist[3].upper()\n",
    "    return ''.join(mylist)"
   ]
  },
  {
   "cell_type": "code",
   "execution_count": null,
   "metadata": {
    "id": "hGhRcFVhdNrA"
   },
   "outputs": [],
   "source": [
    "# Check\n",
    "old_macdonald('macdonald')"
   ]
  },
  {
   "cell_type": "markdown",
   "metadata": {
    "id": "c21xkGnddX8w"
   },
   "source": [
    "**Problem 13**\n",
    "#### FIND 33: \n",
    "\n",
    "Given a list of ints, return True if the array contains a 3 next to a 3 somewhere. (6)\n",
    "\n",
    "    has_33([1, 3, 3]) → True\n",
    "    has_33([1, 3, 1, 3]) → False\n",
    "    has_33([3, 1, 3]) → False"
   ]
  },
  {
   "cell_type": "code",
   "execution_count": null,
   "metadata": {
    "id": "G3bzim7GdgRg"
   },
   "outputs": [],
   "source": [
    "def has_33(nums):\n",
    "    for i in range(len(nums)):\n",
    "        if nums[i:i+2] == [3,3]:\n",
    "            return True\n",
    "    return False"
   ]
  },
  {
   "cell_type": "code",
   "execution_count": null,
   "metadata": {
    "id": "7BvgEIyIdi_N"
   },
   "outputs": [],
   "source": [
    "# Check\n",
    "has_33([1, 3, 3])"
   ]
  },
  {
   "cell_type": "code",
   "execution_count": null,
   "metadata": {
    "id": "-V-QC7APdk4w"
   },
   "outputs": [],
   "source": [
    "# Check\n",
    "has_33([1, 3, 1, 3])"
   ]
  },
  {
   "cell_type": "markdown",
   "metadata": {
    "id": "8_kNORmRdnBy"
   },
   "source": [
    "**Problem 14**\n",
    "\n",
    "You are provided with two images:\n",
    "* word_matrix.png\n",
    "* mask.png\n",
    "\n",
    "The word_matrix is a .png image that contains a spreadsheet of words with a hidden message in it.  \n",
    "\n",
    "Your task is to use the mask.png image to reveal the hidden message inside the word_matrix.png. Keep in mind, you may need to make changes to the mask.png in order for this to work. That is all we'll say for now, since we really want you to discover this on your own! (5)"
   ]
  },
  {
   "cell_type": "code",
   "execution_count": null,
   "metadata": {
    "id": "T-cOktqYekN8"
   },
   "outputs": [],
   "source": []
  },
  {
   "cell_type": "code",
   "execution_count": null,
   "metadata": {
    "id": "EOfj1h9selfd"
   },
   "outputs": [],
   "source": []
  }
 ],
 "metadata": {
  "colab": {
   "collapsed_sections": [],
   "name": "Python Test.ipynb",
   "provenance": []
  },
  "kernelspec": {
   "display_name": "Python 3 (ipykernel)",
   "language": "python",
   "name": "python3"
  },
  "language_info": {
   "codemirror_mode": {
    "name": "ipython",
    "version": 3
   },
   "file_extension": ".py",
   "mimetype": "text/x-python",
   "name": "python",
   "nbconvert_exporter": "python",
   "pygments_lexer": "ipython3",
   "version": "3.8.10"
  }
 },
 "nbformat": 4,
 "nbformat_minor": 1
}
